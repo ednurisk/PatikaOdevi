{
 "cells": [
  {
   "cell_type": "code",
   "execution_count": 6,
   "id": "b04e3474",
   "metadata": {},
   "outputs": [],
   "source": [
    "import pandas as pd\n",
    "df_titanic = pd.read_csv(\"C:/Users/EdaNurIsik/Downloads/train.csv\")"
   ]
  },
  {
   "cell_type": "markdown",
   "id": "3a63ad2d",
   "metadata": {},
   "source": [
    "Kazada ölenlerin yaş ortalamasını bulunuz"
   ]
  },
  {
   "cell_type": "code",
   "execution_count": 9,
   "id": "2a62206e",
   "metadata": {},
   "outputs": [
    {
     "name": "stdout",
     "output_type": "stream",
     "text": [
      "30.62617924528302\n"
     ]
    }
   ],
   "source": [
    "mean_age_dead = df_titanic[df_titanic['Survived'] == 0]['Age'].mean()\n",
    "print(mean_age_dead)\n"
   ]
  },
  {
   "cell_type": "markdown",
   "id": "f9de60ca",
   "metadata": {},
   "source": [
    "Kazada ölenlerin bilet fiyatlarının ortalamasını ve medyanını bulunuz"
   ]
  },
  {
   "cell_type": "code",
   "execution_count": 11,
   "id": "b72c2ce0",
   "metadata": {},
   "outputs": [
    {
     "name": "stdout",
     "output_type": "stream",
     "text": [
      "22.117886885245902\n",
      "10.5\n"
     ]
    }
   ],
   "source": [
    "dead = df_titanic[df_titanic['Survived'] == 0]\n",
    "mean_fare_dead = dead['Fare'].mean()\n",
    "median_fare_dead = dead['Fare'].median()\n",
    "print(mean_fare_dead)\n",
    "print(median_fare_dead)\n"
   ]
  },
  {
   "cell_type": "markdown",
   "id": "79a46afe",
   "metadata": {},
   "source": [
    "Kazada ölen erkeklerin yaş ortalamasını bulunuz"
   ]
  },
  {
   "cell_type": "code",
   "execution_count": 12,
   "id": "a844861d",
   "metadata": {},
   "outputs": [],
   "source": [
    "mean_age_dead_males = df_titanic[(df_titanic['Survived'] == 0) & (df_titanic['Sex'] == 'male')]['Age'].mean()\n"
   ]
  },
  {
   "cell_type": "markdown",
   "id": "a5573c3f",
   "metadata": {},
   "source": [
    "Kazada ölen Kadınların yaş ortalamasını bulunuz"
   ]
  },
  {
   "cell_type": "code",
   "execution_count": 14,
   "id": "016cb943",
   "metadata": {},
   "outputs": [],
   "source": [
    "mean_age_dead_males = df_titanic[(df_titanic['Survived'] == 0) & (df_titanic['Sex'] == 'female')]['Age'].mean()\n"
   ]
  },
  {
   "cell_type": "markdown",
   "id": "8a53d0d9",
   "metadata": {},
   "source": [
    "Kazadan kurtulanların yaş ortalamasını bulunuz"
   ]
  },
  {
   "cell_type": "code",
   "execution_count": null,
   "id": "81935a69",
   "metadata": {},
   "outputs": [],
   "source": [
    "mean_age_alive = df_titanic[df_titanic['Survived'] == 1]['Age'].mean()"
   ]
  },
  {
   "cell_type": "markdown",
   "id": "eaea8093",
   "metadata": {},
   "source": [
    "Kazadan kurtulanların bilet fiyatlarının ortalamasını bulunuz"
   ]
  },
  {
   "cell_type": "code",
   "execution_count": 13,
   "id": "10642a83",
   "metadata": {},
   "outputs": [],
   "source": [
    "mean_fare_alive = df_titanic[df_titanic['Survived'] == 1]['Fare'].mean()\n"
   ]
  },
  {
   "cell_type": "markdown",
   "id": "725ab867",
   "metadata": {},
   "source": [
    "Kazadan kurtulan toplam kişi sayısını bulunuz"
   ]
  },
  {
   "cell_type": "code",
   "execution_count": null,
   "id": "2c2e860c",
   "metadata": {},
   "outputs": [],
   "source": [
    "#count_alive = len(df_titanic[df_titanic['Survived'] == 1])\n",
    "survivor_count = df_titanic[df_titanic['Survived'] == 1].shape[0]\n"
   ]
  },
  {
   "cell_type": "markdown",
   "id": "997a7f32",
   "metadata": {},
   "source": [
    "10 yaşından küçüklerin bilet fiyatlarının medyan değerini bulunuz"
   ]
  },
  {
   "cell_type": "code",
   "execution_count": null,
   "id": "93fb4a95",
   "metadata": {},
   "outputs": [],
   "source": [
    "median_fare_under_10 = df_titanic[df_titanic['Age'] < 10]['Fare'].median()"
   ]
  },
  {
   "cell_type": "markdown",
   "id": "89d38a41",
   "metadata": {},
   "source": [
    "1.sınıf, 2.sınıf ve 3.sınıf bilet fiyatlarının ortalama ve medyanlarını karşılaştırınız"
   ]
  },
  {
   "cell_type": "code",
   "execution_count": null,
   "id": "399be95b",
   "metadata": {},
   "outputs": [],
   "source": [
    "fare_stats_by_class = df_titanic.groupby('Pclass')['Fare'].agg(['mean', 'median'])\n"
   ]
  },
  {
   "cell_type": "markdown",
   "id": "75dd6f5c",
   "metadata": {},
   "source": [
    "Kazada ölen kadınların oranı ile erkeklerin oranını karşılaştırınız. "
   ]
  },
  {
   "cell_type": "code",
   "execution_count": 16,
   "id": "1ab5b362",
   "metadata": {},
   "outputs": [],
   "source": [
    "\n",
    "total_males = df_titanic[df_titanic['Sex'] == 'male'].shape[0]\n",
    "total_females = df_titanic[df_titanic['Sex'] == 'female'].shape[0]\n",
    "\n",
    "dead_males = df_dead[df_dead['Sex'] == 'male'].shape[0]\n",
    "dead_females = df_dead[df_dead['Sex'] == 'female'].shape[0]\n",
    "\n",
    "death_ratio_males = dead_males / total_males\n",
    "death_ratio_females = dead_females / total_females\n"
   ]
  }
 ],
 "metadata": {
  "kernelspec": {
   "display_name": "Python 3",
   "language": "python",
   "name": "python3"
  },
  "language_info": {
   "codemirror_mode": {
    "name": "ipython",
    "version": 3
   },
   "file_extension": ".py",
   "mimetype": "text/x-python",
   "name": "python",
   "nbconvert_exporter": "python",
   "pygments_lexer": "ipython3",
   "version": "3.10.0"
  }
 },
 "nbformat": 4,
 "nbformat_minor": 5
}
